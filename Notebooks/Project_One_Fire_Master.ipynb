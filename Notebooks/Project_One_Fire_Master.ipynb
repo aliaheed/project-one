{
 "cells": [
  {
   "cell_type": "code",
   "execution_count": 0,
   "metadata": {},
   "outputs": [],
   "source": [
    "import matplotlib.pyplot as plt\n",
    "import pandas as pd\n",
    "import numpy as np\n",
    "import sqlite3\n",
    "import gmaps\n",
    "from config import (gkey)\n",
    "\n"
   ]
  },
  {
   "cell_type": "code",
   "execution_count": 0,
   "metadata": {},
   "outputs": [],
   "source": [
    "# conn = sqlite3.connect('./FPA_FOD_20170508.sqlite')\n",
    "\n",
    "# c = conn.cursor()\n",
    "\n",
    "# data = c.execute('Select * from Fires;')\n",
    "# master_df = pd.DataFrame(data.fetchall())\n",
    "# master_df.head()\n",
    "\n"
   ]
  },
  {
   "cell_type": "code",
   "execution_count": 0,
   "metadata": {},
   "outputs": [],
   "source": [
    "# master_header_df = master_df.rename(columns={\n",
    "#     0:\"OBJECTID\", \n",
    "#     1:\"FOD_ID\", \n",
    "#     2:\"FPA_ID\", \n",
    "#     3:\"SOURCE_SYSTEM_TYPE\", \n",
    "#     4:\"SOURCE_SYSTEM\", \n",
    "#     5:\"NWCG_REPORTING_AGENCY\", \n",
    "#     6:\"NWCG_REPORTING_UNIT_ID\",  \n",
    "#     7:\"NWCG_REPORTING_UNIT_NAME\",  \n",
    "#     8:\"SOURCE_REPORTING_UNIT\", \n",
    "#     9:\"SOURCE_REPORTING_UNIT_NAME\", \n",
    "#     10:\"LOCAL_FIRE_REPORT_ID\", \n",
    "#     11:\"LOCAL_INCIDENT_ID\",  \n",
    "#     12:\"FIRE_CODE\",  \n",
    "#     13:\"FIRE_NAME\", \n",
    "#     14:\"ICS_209_INCIDENT_NUMBER\", \n",
    "#     15:\"ICS_209_NAME\", \n",
    "#     16:\"MTBS_ID\",  \n",
    "#     17:\"MTBS_FIRE_NAME\",  \n",
    "#     18:\"COMPLEX_NAME\", \n",
    "#     19:\"FIRE_YEAR\",  \n",
    "#     20:\"DISCOVERY_DATE\", \n",
    "#     21:\"DISCOVERY_DOY\",  \n",
    "#     22:\"DISCOVERY_TIME\", \n",
    "#     23:\"STAT_CAUSE_CODE\", \n",
    "#     24:\"STAT_CAUSE_DESCR\",  \n",
    "#     25:\"CONT_DATE\", \n",
    "#     26:\"CONT_DOY\",  \n",
    "#     27:\"CONT_TIME\", \n",
    "#     28:\"FIRE_SIZE\", \n",
    "#     29:\"FIRE_SIZE_CLASS\", \n",
    "#     30:\"LATITUDE\", \n",
    "#     31:\"LONGITUDE\", \n",
    "#     32:\"OWNER_DESCROWNER_CODE\", \n",
    "#     33:\"OWNER_DESCR\", \n",
    "#     34:\"STATE\",  \n",
    "#     35:\"COUNTY\",  \n",
    "#     36:\"FIPS_CODE\", \n",
    "#     37:\"FIPS_NAME\", \n",
    "#     38:\"Shape\",\n",
    "# })\n",
    "# master_header_df.head()\n",
    "\n"
   ]
  },
  {
   "cell_type": "code",
   "execution_count": 0,
   "metadata": {},
   "outputs": [],
   "source": [
    "# group_main_df = master_header_df[[\"FOD_ID\", \"FIRE_NAME\", \"FIRE_YEAR\", \"DISCOVERY_DATE\", \"DISCOVERY_DOY\", \"DISCOVERY_TIME\", \n",
    "#                                \"STAT_CAUSE_CODE\", \"STAT_CAUSE_DESCR\", \"FIRE_SIZE\", \"FIRE_SIZE_CLASS\", \n",
    "#                                 \"LATITUDE\", \"LONGITUDE\", \"STATE\", \"COUNTY\"]]\n",
    "\n"
   ]
  },
  {
   "cell_type": "code",
   "execution_count": 0,
   "metadata": {},
   "outputs": [],
   "source": [
    "# size_over_one = group_main_df.loc[group_main_df[\"FIRE_SIZE\"]>1,:]\n",
    "\n"
   ]
  },
  {
   "cell_type": "code",
   "execution_count": 0,
   "metadata": {},
   "outputs": [],
   "source": [
    "# Created Main database for group to start using.  THIS DATABASE INCLUDES AK, PR, HI\n",
    "# ===============================================================\n",
    "# size_over_one.to_csv(\"Fire_Data_Over_1.csv\")\n",
    "\n"
   ]
  },
  {
   "cell_type": "code",
   "execution_count": 0,
   "metadata": {},
   "outputs": [],
   "source": [
    "file = \"Fire_Data_Over_1.csv\"\n",
    "df = pd.read_csv(file)\n",
    "\n"
   ]
  },
  {
   "cell_type": "code",
   "execution_count": 0,
   "metadata": {},
   "outputs": [],
   "source": [
    "us_df = df.loc[(df.loc[:,'STATE']!='AK') & (df.loc[:,'STATE']!='HI') & (df.loc[:,'STATE']!='PR')]\n",
    "\n"
   ]
  },
  {
   "cell_type": "code",
   "execution_count": 0,
   "metadata": {},
   "outputs": [],
   "source": [
    "lat_max = us_df[\"LATITUDE\"].max()\n",
    "lat_min = us_df[\"LATITUDE\"].min()\n",
    "lat_interval = (lat_max - lat_min)/3\n",
    "\n",
    "lon_max = us_df[\"LONGITUDE\"].max()\n",
    "lon_min = us_df[\"LONGITUDE\"].min()\n",
    "lon_interval = (lon_max - lon_min)/3\n",
    "\n",
    "\n",
    "lat_bin = [lat_min, (lat_min + lat_interval), (lat_min + 2*lat_interval), lat_max]\n",
    "lon_bin = [lon_min, (lon_min + lon_interval), (lon_min + 2*lon_interval), lon_max]\n",
    "\n",
    "lon_name = [\"West\", \"Central\", \"East\"]\n",
    "lat_name = [\"South\", \"Central\", \"North\"]\n",
    "\n"
   ]
  },
  {
   "cell_type": "code",
   "execution_count": 0,
   "metadata": {},
   "outputs": [],
   "source": [
    "us_df[\"LON_REGION\"] = pd.cut(us_df[\"LONGITUDE\"], lon_bin, labels=lon_name)\n",
    "\n"
   ]
  },
  {
   "cell_type": "code",
   "execution_count": 0,
   "metadata": {},
   "outputs": [],
   "source": [
    "us_df[\"LAT_REGION\"] = pd.cut(us_df[\"LATITUDE\"], lat_bin, labels=lat_name)\n",
    "us_df.head()\n",
    "\n"
   ]
  },
  {
   "cell_type": "code",
   "execution_count": 0,
   "metadata": {},
   "outputs": [],
   "source": [
    "lat_df = us_df.groupby(\"LAT_REGION\")\n",
    "lat_list_bar = lat_df.FOD_ID.count()\n",
    "\n",
    "lat_list_bar.plot(kind=\"barh\", facecolor=\"red\", align=\"edge\")\n",
    "plt.title(\"Wildfires by Lattitude\")\n",
    "plt.xlabel(\"Number of Fires\")\n",
    "plt.ylabel(\"Latitude Region\")\n",
    "plt.grid()\n",
    "plt.savefig(\"Wildfires_By_Latitude.png\", bbox_inches=\"tight\")\n",
    "plt.show()\n",
    "\n"
   ]
  },
  {
   "cell_type": "code",
   "execution_count": 0,
   "metadata": {},
   "outputs": [],
   "source": [
    "lon_df = us_df.groupby(\"LON_REGION\")\n",
    "lon_list_bar = lon_df.FOD_ID.count()\n",
    "lon_list_bar.plot(kind=\"bar\", facecolor=\"blue\", align=\"edge\")\n",
    "plt.title(\"Wildfires by Longitude\")\n",
    "plt.xlabel(\"Number of Fires\")\n",
    "plt.ylabel(\"Longitude Region\")\n",
    "plt.grid()\n",
    "plt.xticks(rotation=45)\n",
    "plt.savefig(\"Wildfires_By_Longitude.png\", bbox_inches=\"tight\")\n",
    "plt.show()\n",
    "\n"
   ]
  },
  {
   "cell_type": "code",
   "execution_count": 0,
   "metadata": {},
   "outputs": [],
   "source": [
    "plt.scatter(us_df[\"LONGITUDE\"], us_df[\"FIRE_SIZE\"], marker=\"o\", facecolors=\"red\", edgecolors=\"black\")\n",
    "plt.title(\"Longitude Vs. Wildfire Size\")\n",
    "plt.xlabel(\"Longitude\")\n",
    "plt.ylabel(\"Fire Size (Acres)\")\n",
    "plt.grid()\n",
    "plt.savefig(\"Longitude_Vs_Wildfire_Size.png\", bbox_inches=\"tight\")\n",
    "plt.show()\n",
    "\n"
   ]
  },
  {
   "cell_type": "code",
   "execution_count": 0,
   "metadata": {},
   "outputs": [],
   "source": [
    "\n",
    "\n"
   ]
  },
  {
   "cell_type": "code",
   "execution_count": 0,
   "metadata": {},
   "outputs": [],
   "source": [
    "# Configure gmaps with API key\n",
    "gmaps.configure(api_key=gkey)\n",
    "# Store 'Lat' and 'Lng' into  locations \n",
    "locations = us_df[[\"LATITUDE\", \"LONGITUDE\"]].astype(float)\n",
    "\n",
    "# Convert Poverty Rate to float and store\n",
    "# HINT: be sure to handle NaN values\n",
    "fire_size = us_df[\"FIRE_SIZE\"].astype(float)\n",
    "\n"
   ]
  },
  {
   "cell_type": "code",
   "execution_count": 0,
   "metadata": {},
   "outputs": [],
   "source": [
    "fig = gmaps.figure()\n",
    "\n",
    "heat_layer = gmaps.heatmap_layer(locations, weights=fire_size, \n",
    "                                 dissipating=False, max_intensity=558198,\n",
    "                                 point_radius = 1)\n",
    "\n",
    "# Adjust heat_layer setting to help with heatmap dissipating on zoom\n",
    "heat_layer.dissipating = False\n",
    "heat_layer.max_intensity = 558198\n",
    "heat_layer.point_radius = 1\n",
    "\n",
    "fig.add_layer(heat_layer)\n",
    "\n",
    "fig\n",
    "\n"
   ]
  },
  {
   "cell_type": "code",
   "execution_count": 0,
   "metadata": {},
   "outputs": [],
   "source": [
    "larger = us_df.loc[us_df[\"FIRE_SIZE\"]>10000,:]\n",
    "larger\n",
    "plt.scatter(larger[\"LONGITUDE\"], larger[\"FIRE_SIZE\"], marker=\"o\", facecolors=\"red\", edgecolors=\"black\")\n",
    "plt.title(\"Longitude Vs. Wildfires > 10,000 Acres\")\n",
    "plt.xlabel(\"Longitude\")\n",
    "plt.ylabel(\"Fire Size (Acres)\")\n",
    "plt.grid()\n",
    "plt.savefig(\"Lng_vs_fire_gtrtenk.png\", bbox_inches=\"tight\")\n",
    "plt.show()\n",
    "\n"
   ]
  },
  {
   "cell_type": "code",
   "execution_count": 0,
   "metadata": {},
   "outputs": [],
   "source": [
    "lon_df = larger.groupby(\"LON_REGION\")\n",
    "lon_list_bar = lon_df.FOD_ID.count()\n",
    "lon_list_bar.plot(kind=\"bar\", facecolor=\"blue\", align=\"edge\")\n",
    "plt.title(\"Wildfires > 10,000 Acres by Longitude\")\n",
    "plt.xlabel(\"Number of Fires\")\n",
    "plt.ylabel(\"Longitude Region\")\n",
    "plt.grid()\n",
    "plt.xticks(rotation=45)\n",
    "plt.savefig(\"Fire_grt_tenK_vs_lon.png\", bbox_inches=\"tight\", pad_inches=0.5)\n",
    "plt.show()\n",
    "\n"
   ]
  },
  {
   "cell_type": "code",
   "execution_count": 0,
   "metadata": {},
   "outputs": [],
   "source": [
    "lat_df = larger.groupby(\"LAT_REGION\")\n",
    "lat_list_bar = lat_df.FOD_ID.count()\n",
    "\n",
    "lat_list_bar.plot(kind=\"barh\", facecolor=\"red\", align=\"edge\")\n",
    "plt.title(\"Wildfires > 10,000 Acres by Lattitude\")\n",
    "plt.xlabel(\"Number of Fires\")\n",
    "plt.ylabel(\"Latitude Region\")\n",
    "plt.grid()\n",
    "plt.savefig(\"Fire_grt_tenK_vs_lat.png\", bbox_inches=\"tight\")\n",
    "plt.show()\n",
    "\n"
   ]
  },
  {
   "cell_type": "code",
   "execution_count": 0,
   "metadata": {},
   "outputs": [],
   "source": [
    "means = years[\"FIRE_SIZE\"].mean()\n",
    "standard_errors = years[\"FIRE_SIZE\"].sem()\n",
    "\n",
    "\n",
    "fig, ax = plt.subplots()\n",
    "x_axis = size_year.index\n",
    "ax.errorbar(x_axis, means, standard_errors, fmt=\"o\", color=\"red\")\n",
    "\n",
    "\n",
    "plt.title(\"Wildfire Size By Year\")\n",
    "plt.xlabel(\"Year\")\n",
    "plt.ylabel(\"Average Size of Fire\")\n",
    "plt.grid()\n",
    "plt.savefig(\"Wildfire_Size_By_Year.png\", bbox_inches=\"tight\")\n",
    "\n",
    "\n",
    "plt.show()\n",
    "\n",
    "\n"
   ]
  }
 ],
 "metadata": {
  "file_extension": ".py",
  "kernelspec": {
   "display_name": "Python 3",
   "language": "python",
   "name": "python3"
  },
  "language_info": {
   "codemirror_mode": {
    "name": "ipython",
    "version": 3
   },
   "file_extension": ".py",
   "mimetype": "text/x-python",
   "name": "python",
   "nbconvert_exporter": "python",
   "pygments_lexer": "ipython3",
   "version": "3.7.1"
  },
  "mimetype": "text/x-python",
  "name": "python",
  "npconvert_exporter": "python",
  "pygments_lexer": "ipython3",
  "version": 3
 },
 "nbformat": 4,
 "nbformat_minor": 2
}
