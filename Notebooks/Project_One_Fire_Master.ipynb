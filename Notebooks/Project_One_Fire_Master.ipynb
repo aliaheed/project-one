{
 "cells": [
  {
   "cell_type": "markdown",
   "metadata": {},
   "source": [
    "---\n",
    "Total Wildfires in the USA from 1992 to 2015\n",
    "--\n",
    "1. There has been a boom-and-bust cycle in the total number of wildfires each year. \n",
    "2. However, there has been an increase in the totals for certain states, particularly in the mid-south to south-east.  \n",
    "3. Most notably, Georgia, Texas, and Mississpippi had the most wildfires during this time.  \n",
    "\n",
    "---\n",
    "Sources: \n",
    "---\n",
    "1. https://www.kaggle.com/rtatman/188-million-us-wildfires/kernels \n",
    "2. https://plot.ly/python/choropleth-maps/#united-states-choropleth-map\n",
    "3. https://ezgif.com/apng-maker"
   ]
  },
  {
   "cell_type": "code",
   "execution_count": 0,
   "metadata": {},
   "outputs": [],
   "source": [
    "# load libraries\n",
    "%matplotlib inline\n",
    "import pandas as pd\n",
    "import numpy as np\n",
    "import matplotlib.pyplot as plt\n",
    "from scipy import stats\n",
    "from scipy.stats import linregress\n",
    "import plotly\n",
    "import plotly.plotly as py\n",
    "import plotly.graph_objs as go\n",
    "from scipy.stats import sem\n",
    "\n",
    "import sqlite3\n",
    "import gmaps\n",
    "from config import (gkey)"
   ]
  },
  {
   "cell_type": "code",
   "execution_count": 0,
   "metadata": {},
   "outputs": [],
   "source": [
    "# conn = sqlite3.connect('./FPA_FOD_20170508.sqlite')\n",
    "\n",
    "# c = conn.cursor()\n",
    "\n",
    "# data = c.execute('Select * from Fires;')\n",
    "# master_df = pd.DataFrame(data.fetchall())\n",
    "# master_df.head()\n",
    "\n"
   ]
  },
  {
   "cell_type": "code",
   "execution_count": 0,
   "metadata": {},
   "outputs": [],
   "source": [
    "# master_header_df = master_df.rename(columns={\n",
    "#     0:\"OBJECTID\", \n",
    "#     1:\"FOD_ID\", \n",
    "#     2:\"FPA_ID\", \n",
    "#     3:\"SOURCE_SYSTEM_TYPE\", \n",
    "#     4:\"SOURCE_SYSTEM\", \n",
    "#     5:\"NWCG_REPORTING_AGENCY\", \n",
    "#     6:\"NWCG_REPORTING_UNIT_ID\",  \n",
    "#     7:\"NWCG_REPORTING_UNIT_NAME\",  \n",
    "#     8:\"SOURCE_REPORTING_UNIT\", \n",
    "#     9:\"SOURCE_REPORTING_UNIT_NAME\", \n",
    "#     10:\"LOCAL_FIRE_REPORT_ID\", \n",
    "#     11:\"LOCAL_INCIDENT_ID\",  \n",
    "#     12:\"FIRE_CODE\",  \n",
    "#     13:\"FIRE_NAME\", \n",
    "#     14:\"ICS_209_INCIDENT_NUMBER\", \n",
    "#     15:\"ICS_209_NAME\", \n",
    "#     16:\"MTBS_ID\",  \n",
    "#     17:\"MTBS_FIRE_NAME\",  \n",
    "#     18:\"COMPLEX_NAME\", \n",
    "#     19:\"FIRE_YEAR\",  \n",
    "#     20:\"DISCOVERY_DATE\", \n",
    "#     21:\"DISCOVERY_DOY\",  \n",
    "#     22:\"DISCOVERY_TIME\", \n",
    "#     23:\"STAT_CAUSE_CODE\", \n",
    "#     24:\"STAT_CAUSE_DESCR\",  \n",
    "#     25:\"CONT_DATE\", \n",
    "#     26:\"CONT_DOY\",  \n",
    "#     27:\"CONT_TIME\", \n",
    "#     28:\"FIRE_SIZE\", \n",
    "#     29:\"FIRE_SIZE_CLASS\", \n",
    "#     30:\"LATITUDE\", \n",
    "#     31:\"LONGITUDE\", \n",
    "#     32:\"OWNER_DESCROWNER_CODE\", \n",
    "#     33:\"OWNER_DESCR\", \n",
    "#     34:\"STATE\",  \n",
    "#     35:\"COUNTY\",  \n",
    "#     36:\"FIPS_CODE\", \n",
    "#     37:\"FIPS_NAME\", \n",
    "#     38:\"Shape\",\n",
    "# })\n",
    "# master_header_df.head()\n",
    "\n"
   ]
  },
  {
   "cell_type": "code",
   "execution_count": 0,
   "metadata": {},
   "outputs": [],
   "source": [
    "# group_main_df = master_header_df[[\"FOD_ID\", \"FIRE_NAME\", \"FIRE_YEAR\", \"DISCOVERY_DATE\", \"DISCOVERY_DOY\", \"DISCOVERY_TIME\", \n",
    "#                                \"STAT_CAUSE_CODE\", \"STAT_CAUSE_DESCR\", \"FIRE_SIZE\", \"FIRE_SIZE_CLASS\", \n",
    "#                                 \"LATITUDE\", \"LONGITUDE\", \"STATE\", \"COUNTY\"]]\n",
    "\n"
   ]
  },
  {
   "cell_type": "code",
   "execution_count": 0,
   "metadata": {},
   "outputs": [],
   "source": [
    "# size_over_one = group_main_df.loc[group_main_df[\"FIRE_SIZE\"]>1,:]\n",
    "\n"
   ]
  },
  {
   "cell_type": "code",
   "execution_count": 0,
   "metadata": {},
   "outputs": [],
   "source": [
    "# Created Main database for group to start using.  THIS DATABASE INCLUDES AK, PR, HI\n",
    "# ===============================================================\n",
    "# size_over_one.to_csv(\"Fire_Data_Over_1.csv\")\n",
    "\n"
   ]
  },
  {
   "cell_type": "code",
   "execution_count": 0,
   "metadata": {},
   "outputs": [],
   "source": [
    "file = \"../Fire_Data_Over_1.csv\"\n",
    "df = pd.read_csv(file)\n",
    "\n"
   ]
  },
  {
   "cell_type": "code",
   "execution_count": 0,
   "metadata": {},
   "outputs": [],
   "source": [
    "us_df = df.loc[(df.loc[:,'STATE']!='AK') & (df.loc[:,'STATE']!='HI') & (df.loc[:,'STATE']!='PR')]\n",
    "\n"
   ]
  },
  {
   "cell_type": "code",
   "execution_count": 0,
   "metadata": {},
   "outputs": [],
   "source": [
    "lat_max = us_df[\"LATITUDE\"].max()\n",
    "lat_min = us_df[\"LATITUDE\"].min()\n",
    "lat_interval = (lat_max - lat_min)/3\n",
    "\n",
    "lon_max = us_df[\"LONGITUDE\"].max()\n",
    "lon_min = us_df[\"LONGITUDE\"].min()\n",
    "lon_interval = (lon_max - lon_min)/3\n",
    "\n",
    "\n",
    "lat_bin = [lat_min, (lat_min + lat_interval), (lat_min + 2*lat_interval), lat_max]\n",
    "lon_bin = [lon_min, (lon_min + lon_interval), (lon_min + 2*lon_interval), lon_max]\n",
    "\n",
    "lon_name = [\"West\", \"Central\", \"East\"]\n",
    "lat_name = [\"South\", \"Central\", \"North\"]\n",
    "\n"
   ]
  },
  {
   "cell_type": "code",
   "execution_count": 0,
   "metadata": {},
   "outputs": [],
   "source": [
    "us_df[\"LON_REGION\"] = pd.cut(us_df[\"LONGITUDE\"], lon_bin, labels=lon_name)\n",
    "\n"
   ]
  },
  {
   "cell_type": "code",
   "execution_count": 0,
   "metadata": {},
   "outputs": [],
   "source": [
    "us_df[\"LAT_REGION\"] = pd.cut(us_df[\"LATITUDE\"], lat_bin, labels=lat_name)\n",
    "us_df.head()\n",
    "\n"
   ]
  },
  {
   "cell_type": "code",
   "execution_count": 0,
   "metadata": {},
   "outputs": [],
   "source": [
    "lat_df = us_df.groupby(\"LAT_REGION\")\n",
    "lat_list_bar = lat_df.FOD_ID.count()\n",
    "\n",
    "lat_list_bar.plot(kind=\"barh\", facecolor=\"red\", align=\"edge\")\n",
    "plt.title(\"Wildfires by Lattitude\")\n",
    "plt.xlabel(\"Number of Fires\")\n",
    "plt.ylabel(\"Latitude Region\")\n",
    "plt.grid()\n",
    "plt.savefig(\"Wildfires_By_Latitude.png\", bbox_inches=\"tight\")\n",
    "plt.show()\n",
    "\n"
   ]
  },
  {
   "cell_type": "code",
   "execution_count": 0,
   "metadata": {},
   "outputs": [],
   "source": [
    "lon_df = us_df.groupby(\"LON_REGION\")\n",
    "lon_list_bar = lon_df.FOD_ID.count()\n",
    "lon_list_bar.plot(kind=\"bar\", facecolor=\"blue\", align=\"edge\")\n",
    "plt.title(\"Wildfires by Longitude\")\n",
    "plt.xlabel(\"Number of Fires\")\n",
    "plt.ylabel(\"Longitude Region\")\n",
    "plt.grid()\n",
    "plt.xticks(rotation=45)\n",
    "plt.savefig(\"Wildfires_By_Longitude.png\", bbox_inches=\"tight\")\n",
    "plt.show()\n",
    "\n"
   ]
  },
  {
   "cell_type": "code",
   "execution_count": 0,
   "metadata": {},
   "outputs": [],
   "source": [
    "plt.scatter(us_df[\"LONGITUDE\"], us_df[\"FIRE_SIZE\"], marker=\"o\", facecolors=\"red\", edgecolors=\"black\")\n",
    "plt.title(\"Longitude Vs. Wildfire Size\")\n",
    "plt.xlabel(\"Longitude\")\n",
    "plt.ylabel(\"Fire Size (Acres)\")\n",
    "plt.grid()\n",
    "plt.savefig(\"Longitude_Vs_Wildfire_Size.png\", bbox_inches=\"tight\")\n",
    "plt.show()\n",
    "\n"
   ]
  },
  {
   "cell_type": "code",
   "execution_count": 0,
   "metadata": {},
   "outputs": [],
   "source": [
    "\n",
    "\n"
   ]
  },
  {
   "cell_type": "code",
   "execution_count": 0,
   "metadata": {},
   "outputs": [],
   "source": [
    "# Configure gmaps with API key\n",
    "gmaps.configure(api_key=gkey)\n",
    "# Store 'Lat' and 'Lng' into  locations \n",
    "locations = us_df[[\"LATITUDE\", \"LONGITUDE\"]].astype(float)\n",
    "\n",
    "# Convert Poverty Rate to float and store\n",
    "# HINT: be sure to handle NaN values\n",
    "fire_size = us_df[\"FIRE_SIZE\"].astype(float)\n",
    "\n"
   ]
  },
  {
   "cell_type": "code",
   "execution_count": 0,
   "metadata": {},
   "outputs": [],
   "source": [
    "fig = gmaps.figure()\n",
    "\n",
    "heat_layer = gmaps.heatmap_layer(locations, weights=fire_size, \n",
    "                                 dissipating=False, max_intensity=558198,\n",
    "                                 point_radius = 1)\n",
    "\n",
    "# Adjust heat_layer setting to help with heatmap dissipating on zoom\n",
    "heat_layer.dissipating = False\n",
    "heat_layer.max_intensity = 558198\n",
    "heat_layer.point_radius = 1\n",
    "\n",
    "fig.add_layer(heat_layer)\n",
    "\n",
    "fig\n",
    "\n"
   ]
  },
  {
   "cell_type": "code",
   "execution_count": 0,
   "metadata": {},
   "outputs": [],
   "source": [
    "larger = us_df.loc[us_df[\"FIRE_SIZE\"]>10000,:]\n",
    "larger\n",
    "plt.scatter(larger[\"LONGITUDE\"], larger[\"FIRE_SIZE\"], marker=\"o\", facecolors=\"red\", edgecolors=\"black\")\n",
    "plt.title(\"Longitude Vs. Wildfires > 10,000 Acres\")\n",
    "plt.xlabel(\"Longitude\")\n",
    "plt.ylabel(\"Fire Size (Acres)\")\n",
    "plt.grid()\n",
    "plt.savefig(\"Lng_vs_fire_gtrtenk.png\", bbox_inches=\"tight\")\n",
    "plt.show()\n",
    "\n"
   ]
  },
  {
   "cell_type": "code",
   "execution_count": 0,
   "metadata": {},
   "outputs": [],
   "source": [
    "lon_df = larger.groupby(\"LON_REGION\")\n",
    "lon_list_bar = lon_df.FOD_ID.count()\n",
    "lon_list_bar.plot(kind=\"bar\", facecolor=\"blue\", align=\"edge\")\n",
    "plt.title(\"Wildfires > 10,000 Acres by Longitude\")\n",
    "plt.xlabel(\"Number of Fires\")\n",
    "plt.ylabel(\"Longitude Region\")\n",
    "plt.grid()\n",
    "plt.xticks(rotation=45)\n",
    "plt.savefig(\"Fire_grt_tenK_vs_lon.png\", bbox_inches=\"tight\", pad_inches=0.5)\n",
    "plt.show()\n",
    "\n"
   ]
  },
  {
   "cell_type": "code",
   "execution_count": 0,
   "metadata": {},
   "outputs": [],
   "source": [
    "lat_df = larger.groupby(\"LAT_REGION\")\n",
    "lat_list_bar = lat_df.FOD_ID.count()\n",
    "\n",
    "lat_list_bar.plot(kind=\"barh\", facecolor=\"red\", align=\"edge\")\n",
    "plt.title(\"Wildfires > 10,000 Acres by Lattitude\")\n",
    "plt.xlabel(\"Number of Fires\")\n",
    "plt.ylabel(\"Latitude Region\")\n",
    "plt.grid()\n",
    "plt.savefig(\"Fire_grt_tenK_vs_lat.png\", bbox_inches=\"tight\")\n",
    "plt.show()\n",
    "\n"
   ]
  },
  {
   "cell_type": "code",
   "execution_count": 0,
   "metadata": {},
   "outputs": [],
   "source": [
    "means = years[\"FIRE_SIZE\"].mean()\n",
    "standard_errors = years[\"FIRE_SIZE\"].sem()\n",
    "\n",
    "\n",
    "fig, ax = plt.subplots()\n",
    "x_axis = size_year.index\n",
    "ax.errorbar(x_axis, means, standard_errors, fmt=\"o\", color=\"red\")\n",
    "\n",
    "\n",
    "plt.title(\"Wildfire Size By Year\")\n",
    "plt.xlabel(\"Year\")\n",
    "plt.ylabel(\"Average Size of Fire\")\n",
    "plt.grid()\n",
    "plt.savefig(\"Wildfire_Size_By_Year.png\", bbox_inches=\"tight\")\n",
    "\n",
    "\n",
    "plt.show()\n",
    "\n",
    "\n"
   ]
  },
  {
   "cell_type": "code",
   "execution_count": null,
   "metadata": {},
   "outputs": [],
   "source": [
    "# ======================================================================\n",
    "# Victor's code starts here\n",
    "# ======================================================================"
   ]
  },
  {
   "cell_type": "code",
   "execution_count": null,
   "metadata": {},
   "outputs": [],
   "source": [
    "\n",
    "\n",
    "# Load data\n",
    "fp = \"../Resources/Fire_Data_Over_1.csv\"\n",
    "\n",
    "map_df = pd.read_csv(fp)\n",
    "\n",
    "map_df.head()"
   ]
  },
  {
   "cell_type": "code",
   "execution_count": null,
   "metadata": {},
   "outputs": [],
   "source": [
    "# Remove Puerto Rico since it won't show up on our map of the US for the choropleth map\n",
    "\n",
    "new = map_df.loc[(map_df.loc[:,'STATE']!='PR')]\n",
    "new.head()"
   ]
  },
  {
   "cell_type": "code",
   "execution_count": null,
   "metadata": {},
   "outputs": [],
   "source": [
    "# Sort by year ascending \n",
    "\n",
    "df = new.sort_values([\"FIRE_YEAR\", \"STATE\"])\n",
    "df.dropna(how=\"any\")\n",
    "df = df.reset_index(drop=True)\n",
    "df.head()"
   ]
  },
  {
   "cell_type": "code",
   "execution_count": null,
   "metadata": {},
   "outputs": [],
   "source": [
    "# Simplify to two columns and count number of wildfires in each year\n",
    "\n",
    "group_df = df[['FIRE_YEAR','STATE']]\n",
    "state_totals = list(df.groupby(\"STATE\")[\"FIRE_YEAR\"].count())\n",
    "years = df.groupby(\"FIRE_YEAR\")\n",
    "year_totals = years[\"STATE\"].count()\n",
    "\n",
    "group_df.head()"
   ]
  },
  {
   "cell_type": "code",
   "execution_count": null,
   "metadata": {},
   "outputs": [],
   "source": [
    "# Make a unique data frame to pull unique states\n",
    "\n",
    "unique_df = group_df.drop_duplicates().reset_index(drop=True)\n",
    "unique_states = group_df.loc[group_df[\"FIRE_YEAR\"] == 2015].drop_duplicates().reset_index(drop=True)\n",
    "\n",
    "unique_df.head()"
   ]
  },
  {
   "cell_type": "code",
   "execution_count": null,
   "metadata": {},
   "outputs": [],
   "source": [
    "# Make a df of totals for the years\n",
    "\n",
    "years = list(range(1992,2016))\n",
    "\n",
    "years_df = pd.DataFrame({\n",
    "    \"Year\": years,\n",
    "    \"Totals\": year_totals\n",
    "})\n",
    "years_df[\"Totals\"] = years_df[\"Totals\"].map(\"{:,}\".format)\n",
    "years_df.head()"
   ]
  },
  {
   "cell_type": "code",
   "execution_count": null,
   "metadata": {},
   "outputs": [],
   "source": [
    "#Make a line graph with this data\n",
    "\n",
    "year = years_df.iloc[:,0]\n",
    "totals = years_df.iloc[:,1]\n",
    "\n",
    "m_slope, m_int, m_r, m_p, m_std_err = stats.linregress(years, year_totals)\n",
    "m_fit = m_slope * year + m_int\n",
    "\n",
    "\n",
    "\n",
    "fig, ax = plt.subplots(1, sharex=True)\n",
    "fig.suptitle(\"Total number of wildfires in the USA from 1992 to 2015\", fontsize=12, fontweight=\"bold\")\n",
    "\n",
    "ax.plot(years,year_totals, marker=\"s\", color=\"Red\", linewidth=1) \n",
    "ax.plot(year, m_fit, \"r--\", linewidth=1)\n",
    "\n",
    "\n",
    "plt.grid(alpha=0.5)\n",
    "\n",
    "plt.xlabel(\"Years\")\n",
    "plt.ylabel(\"Number of Wildfires\")\n",
    "\n",
    "plt.savefig(\"graphs/total_wildfires_years.png\")\n",
    "plt.show()\n",
    "\n",
    "stats.linregress(years, year_totals)"
   ]
  },
  {
   "cell_type": "code",
   "execution_count": null,
   "metadata": {},
   "outputs": [],
   "source": [
    "# Make a df of totals for the states\n",
    "\n",
    "states = unique_states[\"STATE\"]\n",
    "\n",
    "states_df = pd.DataFrame({ \n",
    "    \"States\": states, \n",
    "    \"Totals\": state_totals\n",
    "})\n",
    "states_df = states_df.sort_values([\"Totals\"], ascending=False).reset_index(drop=True)\n",
    "\n",
    "#pick out the top 10 states\n",
    "\n",
    "top_10 = pd.DataFrame({\n",
    "    \"Top 10 States\": states_df[\"States\"][0:9],\n",
    "    \"Totals\": states_df[\"Totals\"][0:9]\n",
    "}) \n",
    "\n",
    "states_df.head()"
   ]
  },
  {
   "cell_type": "code",
   "execution_count": null,
   "metadata": {},
   "outputs": [],
   "source": [
    "# Set x axis and tick locations\n",
    "\n",
    "top_10_states = top_10[\"Top 10 States\"]\n",
    "x_axis = np.arange(len(top_10))\n",
    "tick_locations = [value+0.4 for value in x_axis]\n",
    "\n",
    "# Create a list indicating where to write x labels and set figure size to adjust for space\n",
    "\n",
    "plt.bar(x_axis, top_10[\"Totals\"], color='r', alpha=0.5, align=\"edge\")\n",
    "\n",
    "plt.xticks(tick_locations, top_10_states)\n",
    "\n",
    "# Set x and y limits\n",
    "\n",
    "# plt.xlim(-0.25, len(x_axis))\n",
    "# plt.ylim(0, max(state_totals)+10000)\n",
    "\n",
    "# Set a Title and labels\n",
    "\n",
    "plt.title(\"Top Ten States with the Most Wildfires (1992 - 2015)\")\n",
    "plt.xlabel(\"States\")\n",
    "plt.ylabel(\"Number of Wildfires\")\n",
    "plt.grid(alpha=0.5)\n",
    "\n",
    "# Save our graph and show the graph\n",
    "\n",
    "plt.tight_layout() \n",
    "plt.savefig(\"graphs/total_wildfires_states.png\")\n",
    "plt.show()"
   ]
  },
  {
   "cell_type": "code",
   "execution_count": null,
   "metadata": {},
   "outputs": [],
   "source": [
    "# Get the number of wildfires in each year in each state\n",
    "\n",
    "df = df[[\"FIRE_YEAR\", \"STATE\"]]\n",
    "totals = list(df.groupby([\"FIRE_YEAR\", \"STATE\"])[\"STATE\"].count())\n",
    "unique_df[\"Totals\"] = totals\n",
    "unique_df.head()"
   ]
  },
  {
   "cell_type": "code",
   "execution_count": null,
   "metadata": {},
   "outputs": [],
   "source": [
    "# Use pd.pivot_tableto make a new dataframe \n",
    "\n",
    "unique_df = pd.pivot_table(unique_df, values = 'Totals', index=['STATE'], columns = 'FIRE_YEAR').reset_index()\n",
    "unique_df.head()"
   ]
  },
  {
   "cell_type": "code",
   "execution_count": null,
   "metadata": {},
   "outputs": [],
   "source": [
    "# Now to make cloropleth map using the plotly library and API\n",
    "\n",
    "for col in states_df.columns:\n",
    "    states_df[col] = states_df[col].astype(str)\n",
    "\n",
    "# Select the colors for the gradient     \n",
    "scl = [[0.0, 'rgb(255,215,0)'],\n",
    "       [0.2, 'rgb(255,165,0)'],\n",
    "       [0.4, 'rgb(255,140,0)'],\n",
    "       [0.6, 'rgb(255,115,0)'],\n",
    "       [0.8, 'rgb(200,50,0)'],\n",
    "       [1.0, 'rgb(139,0,0)']]\n",
    "\n",
    "#Load the dictionary for a choropleth map \n",
    "data = [ dict(\n",
    "        type='choropleth',\n",
    "        colorscale = scl,\n",
    "        autocolorscale = False,\n",
    "        locations = states_df['States'],\n",
    "        z = states_df[\"Totals\"],\n",
    "        locationmode = 'USA-states',\n",
    "        marker = dict(\n",
    "            line = dict (\n",
    "                color = 'rgb(255,255,255)',\n",
    "                width = 2\n",
    "            ) ),\n",
    "        colorbar = dict(\n",
    "            title = \"Number of Wildfires\")\n",
    "        ) ]\n",
    "\n",
    "# Add title and labels \n",
    "layout = dict(\n",
    "        title = 'USA Wildfires 1992-2015 </br></br>Source: Kaggle',\n",
    "        geo = dict(\n",
    "            scope='usa',\n",
    "            projection=dict( type='albers usa' ),\n",
    "            showlakes = True,\n",
    "            lakecolor = 'rgb(255, 255, 255)'),\n",
    "             )\n",
    "\n",
    "# Show the map \n",
    "fig = dict( data=data, layout=layout )\n",
    "py.iplot( fig, filename='d3-cloropleth-map' )"
   ]
  },
  {
   "cell_type": "code",
   "execution_count": null,
   "metadata": {},
   "outputs": [],
   "source": []
  },
  {
   "cell_type": "code",
   "execution_count": null,
   "metadata": {},
   "outputs": [],
   "source": []
  },
  {
   "cell_type": "code",
   "execution_count": null,
   "metadata": {},
   "outputs": [],
   "source": []
  },
  {
   "cell_type": "markdown",
   "metadata": {},
   "source": [
    "---\n",
    "Sources: \n",
    "---\n",
    "1. https://www.kaggle.com/rtatman/188-million-us-wildfires/kernels \n",
    "2. https://plot.ly/python/choropleth-maps/#united-states-choropleth-map\n",
    "3. https://ezgif.com/apng-maker"
   ]
  },
  {
   "cell_type": "code",
   "execution_count": null,
   "metadata": {},
   "outputs": [],
   "source": []
  }
 ],
 "metadata": {
  "file_extension": ".py",
  "kernelspec": {
   "display_name": "Python 3",
   "language": "python",
   "name": "python3"
  },
  "language_info": {
   "codemirror_mode": {
    "name": "ipython",
    "version": 3
   },
   "file_extension": ".py",
   "mimetype": "text/x-python",
   "name": "python",
   "nbconvert_exporter": "python",
   "pygments_lexer": "ipython3",
   "version": "3.7.1"
  },
  "mimetype": "text/x-python",
  "name": "python",
  "npconvert_exporter": "python",
  "pygments_lexer": "ipython3",
  "version": 3
 },
 "nbformat": 4,
 "nbformat_minor": 2
}
