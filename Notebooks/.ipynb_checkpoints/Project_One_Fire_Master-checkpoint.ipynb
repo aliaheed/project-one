{
 "cells": [
  {
   "cell_type": "code",
   "execution_count": 1,
   "metadata": {},
   "outputs": [],
   "source": [
    "import matplotlib.pyplot as plt\n",
    "import pandas as pd\n",
    "import numpy as np\n",
    "import sqlite3\n",
    "import gmaps\n",
    "from config import (gkey)"
   ]
  },
  {
   "cell_type": "code",
   "execution_count": null,
   "metadata": {},
   "outputs": [],
   "source": [
    "# conn = sqlite3.connect('./FPA_FOD_20170508.sqlite')\n",
    "\n",
    "# c = conn.cursor()\n",
    "\n",
    "# data = c.execute('Select * from Fires;')\n",
    "# master_df = pd.DataFrame(data.fetchall())\n",
    "# master_df.head()"
   ]
  },
  {
   "cell_type": "code",
   "execution_count": null,
   "metadata": {},
   "outputs": [],
   "source": [
    "# master_header_df = master_df.rename(columns={\n",
    "#     0:\"OBJECTID\", \n",
    "#     1:\"FOD_ID\", \n",
    "#     2:\"FPA_ID\", \n",
    "#     3:\"SOURCE_SYSTEM_TYPE\", \n",
    "#     4:\"SOURCE_SYSTEM\", \n",
    "#     5:\"NWCG_REPORTING_AGENCY\", \n",
    "#     6:\"NWCG_REPORTING_UNIT_ID\",  \n",
    "#     7:\"NWCG_REPORTING_UNIT_NAME\",  \n",
    "#     8:\"SOURCE_REPORTING_UNIT\", \n",
    "#     9:\"SOURCE_REPORTING_UNIT_NAME\", \n",
    "#     10:\"LOCAL_FIRE_REPORT_ID\", \n",
    "#     11:\"LOCAL_INCIDENT_ID\",  \n",
    "#     12:\"FIRE_CODE\",  \n",
    "#     13:\"FIRE_NAME\", \n",
    "#     14:\"ICS_209_INCIDENT_NUMBER\", \n",
    "#     15:\"ICS_209_NAME\", \n",
    "#     16:\"MTBS_ID\",  \n",
    "#     17:\"MTBS_FIRE_NAME\",  \n",
    "#     18:\"COMPLEX_NAME\", \n",
    "#     19:\"FIRE_YEAR\",  \n",
    "#     20:\"DISCOVERY_DATE\", \n",
    "#     21:\"DISCOVERY_DOY\",  \n",
    "#     22:\"DISCOVERY_TIME\", \n",
    "#     23:\"STAT_CAUSE_CODE\", \n",
    "#     24:\"STAT_CAUSE_DESCR\",  \n",
    "#     25:\"CONT_DATE\", \n",
    "#     26:\"CONT_DOY\",  \n",
    "#     27:\"CONT_TIME\", \n",
    "#     28:\"FIRE_SIZE\", \n",
    "#     29:\"FIRE_SIZE_CLASS\", \n",
    "#     30:\"LATITUDE\", \n",
    "#     31:\"LONGITUDE\", \n",
    "#     32:\"OWNER_DESCROWNER_CODE\", \n",
    "#     33:\"OWNER_DESCR\", \n",
    "#     34:\"STATE\",  \n",
    "#     35:\"COUNTY\",  \n",
    "#     36:\"FIPS_CODE\", \n",
    "#     37:\"FIPS_NAME\", \n",
    "#     38:\"Shape\",\n",
    "# })\n",
    "# master_header_df.head()"
   ]
  },
  {
   "cell_type": "code",
   "execution_count": null,
   "metadata": {},
   "outputs": [],
   "source": [
    "# group_main_df = master_header_df[[\"FOD_ID\", \"FIRE_NAME\", \"FIRE_YEAR\", \"DISCOVERY_DATE\", \"DISCOVERY_DOY\", \"DISCOVERY_TIME\", \n",
    "#                                \"STAT_CAUSE_CODE\", \"STAT_CAUSE_DESCR\", \"FIRE_SIZE\", \"FIRE_SIZE_CLASS\", \n",
    "#                                 \"LATITUDE\", \"LONGITUDE\", \"STATE\", \"COUNTY\"]]"
   ]
  },
  {
   "cell_type": "code",
   "execution_count": null,
   "metadata": {},
   "outputs": [],
   "source": [
    "# size_over_one = group_main_df.loc[group_main_df[\"FIRE_SIZE\"]>1,:]"
   ]
  },
  {
   "cell_type": "code",
   "execution_count": null,
   "metadata": {},
   "outputs": [],
   "source": [
    "# Created Main database for group to start using.  THIS DATABASE INCLUDES AK, PR, HI\n",
    "# ===============================================================\n",
    "# size_over_one.to_csv(\"Fire_Data_Over_1.csv\")"
   ]
  },
  {
   "cell_type": "code",
   "execution_count": null,
   "metadata": {},
   "outputs": [],
   "source": []
  }
 ],
 "metadata": {
  "kernelspec": {
   "display_name": "Python 3",
   "language": "python",
   "name": "python3"
  },
  "language_info": {
   "codemirror_mode": {
    "name": "ipython",
    "version": 3
   },
   "file_extension": ".py",
   "mimetype": "text/x-python",
   "name": "python",
   "nbconvert_exporter": "python",
   "pygments_lexer": "ipython3",
   "version": "3.7.1"
  }
 },
 "nbformat": 4,
 "nbformat_minor": 2
}
