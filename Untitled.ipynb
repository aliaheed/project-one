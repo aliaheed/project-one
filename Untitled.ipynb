{
 "cells": [
  {
   "cell_type": "code",
   "execution_count": 1,
   "metadata": {},
   "outputs": [],
   "source": [
    "import praw\n",
    "reddit = praw.Reddit(client_id='4YXwW2t4PBFVMg', client_secret=\"Mn1h0lRitR1VVrDTn5tvM60Oqvc\",\n",
    "                     password='Zamzam123', user_agent='aliaheed',\n",
    "                     username='aliaheed')"
   ]
  },
  {
   "cell_type": "code",
   "execution_count": null,
   "metadata": {},
   "outputs": [],
   "source": [
    "# Create a submission to /r/test\n",
    "reddit.subreddit('wildfire').submit('Wildfire', url='https://reddit.com')"
   ]
  },
  {
   "cell_type": "code",
   "execution_count": null,
   "metadata": {},
   "outputs": [],
   "source": [
    "# Create a submission to /r/test\n",
    "#reddit.subreddit('test').submit('Test Submission', url='https://reddit.com')\n",
    "\n",
    "# Comment on a known submission\n",
    "submission = reddit.submission(url='https://www.reddit.com/comments/5e1az9')\n",
    "submission.reply('Super rad!')\n",
    "\n",
    "# Reply to the first comment of a weekly top thread of a moderated community\n",
    "submission = next(reddit.subreddit('mod').top('week'))\n",
    "submission.comments[0].reply('An automated reply')\n",
    "\n",
    "# Output score for the first 256 items on the frontpage\n",
    "for submission in reddit.front.hot(limit=256):\n",
    "    print(submission.score)\n",
    "\n",
    "# Obtain the moderator listing for redditdev\n",
    "for moderator in reddit.subreddit('redditdev').moderator:\n",
    "    print(moderator)"
   ]
  }
 ],
 "metadata": {
  "kernelspec": {
   "display_name": "Python 3",
   "language": "python",
   "name": "python3"
  },
  "language_info": {
   "codemirror_mode": {
    "name": "ipython",
    "version": 3
   },
   "file_extension": ".py",
   "mimetype": "text/x-python",
   "name": "python",
   "nbconvert_exporter": "python",
   "pygments_lexer": "ipython3",
   "version": "3.7.1"
  }
 },
 "nbformat": 4,
 "nbformat_minor": 2
}
